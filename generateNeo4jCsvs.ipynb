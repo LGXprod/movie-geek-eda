{
 "cells": [
  {
   "cell_type": "code",
   "execution_count": 28,
   "metadata": {},
   "outputs": [],
   "source": [
    "import os\n",
    "import json\n",
    "import numpy as np\n",
    "import pandas as pd"
   ]
  },
  {
   "cell_type": "code",
   "execution_count": 29,
   "metadata": {},
   "outputs": [],
   "source": [
    "movies_df = pd.read_csv(\"./original-dataset/movies.csv\")"
   ]
  },
  {
   "cell_type": "code",
   "execution_count": 30,
   "metadata": {},
   "outputs": [],
   "source": [
    "with open('movie_to_relevant_tags.json', 'r') as fp:\n",
    "        movie_to_tag_relevance = json.load(fp)"
   ]
  },
  {
   "cell_type": "code",
   "execution_count": 31,
   "metadata": {},
   "outputs": [
    {
     "name": "stdout",
     "output_type": "stream",
     "text": [
      "27277/27278\r"
     ]
    }
   ],
   "source": [
    "allGenres = set([])\n",
    "\n",
    "for y, row in movies_df.iterrows():\n",
    "    genres = row[\"genres\"].split(\"|\")\n",
    "\n",
    "    for i, genre in enumerate(genres):\n",
    "        if not genre in allGenres:\n",
    "            allGenres.add(genre)\n",
    "\n",
    "    print(f\"{y}/{len(movies_df)}\", end=\"\\r\")\n",
    "\n",
    "genreIds = [f\"{i+1}\" for i in range(len(allGenres))]\n",
    "genreNames = list(allGenres)"
   ]
  },
  {
   "cell_type": "code",
   "execution_count": 32,
   "metadata": {},
   "outputs": [],
   "source": [
    "# genres_df = pd.DataFrame(genres, columns=[\"id\", \"name\"])\n",
    "# genres_df.to_csv(\"./neo4j_csvs/genres.csv\", index=False)"
   ]
  },
  {
   "cell_type": "code",
   "execution_count": 33,
   "metadata": {},
   "outputs": [],
   "source": [
    "# movie_tags_df = movies_df.copy()\n",
    "# movie_tags_df[\"genreId\"] = np.full((len(movie_tags_df),), \"\")\n",
    "# movie_tags_df[\"genreName\"] = np.full((len(movie_tags_df),), \"\")\n",
    "# movie_tags_df"
   ]
  },
  {
   "cell_type": "code",
   "execution_count": 36,
   "metadata": {},
   "outputs": [
    {
     "data": {
      "text/html": [
       "<div>\n",
       "<style scoped>\n",
       "    .dataframe tbody tr th:only-of-type {\n",
       "        vertical-align: middle;\n",
       "    }\n",
       "\n",
       "    .dataframe tbody tr th {\n",
       "        vertical-align: top;\n",
       "    }\n",
       "\n",
       "    .dataframe thead th {\n",
       "        text-align: right;\n",
       "    }\n",
       "</style>\n",
       "<table border=\"1\" class=\"dataframe\">\n",
       "  <thead>\n",
       "    <tr style=\"text-align: right;\">\n",
       "      <th></th>\n",
       "      <th>movieId</th>\n",
       "      <th>movieTitle</th>\n",
       "      <th>genreId</th>\n",
       "      <th>genreName</th>\n",
       "    </tr>\n",
       "  </thead>\n",
       "  <tbody>\n",
       "    <tr>\n",
       "      <th>0</th>\n",
       "      <td>1</td>\n",
       "      <td>Toy Story (1995)</td>\n",
       "      <td>3</td>\n",
       "      <td>Animation</td>\n",
       "    </tr>\n",
       "    <tr>\n",
       "      <th>1</th>\n",
       "      <td>1</td>\n",
       "      <td>Toy Story (1995)</td>\n",
       "      <td>5</td>\n",
       "      <td>Comedy</td>\n",
       "    </tr>\n",
       "    <tr>\n",
       "      <th>2</th>\n",
       "      <td>1</td>\n",
       "      <td>Toy Story (1995)</td>\n",
       "      <td>8</td>\n",
       "      <td>Fantasy</td>\n",
       "    </tr>\n",
       "    <tr>\n",
       "      <th>3</th>\n",
       "      <td>1</td>\n",
       "      <td>Toy Story (1995)</td>\n",
       "      <td>13</td>\n",
       "      <td>Children</td>\n",
       "    </tr>\n",
       "    <tr>\n",
       "      <th>4</th>\n",
       "      <td>1</td>\n",
       "      <td>Toy Story (1995)</td>\n",
       "      <td>15</td>\n",
       "      <td>Adventure</td>\n",
       "    </tr>\n",
       "    <tr>\n",
       "      <th>...</th>\n",
       "      <td>...</td>\n",
       "      <td>...</td>\n",
       "      <td>...</td>\n",
       "      <td>...</td>\n",
       "    </tr>\n",
       "    <tr>\n",
       "      <th>54401</th>\n",
       "      <td>131258</td>\n",
       "      <td>The Pirates (2014)</td>\n",
       "      <td>15</td>\n",
       "      <td>Adventure</td>\n",
       "    </tr>\n",
       "    <tr>\n",
       "      <th>54402</th>\n",
       "      <td>131260</td>\n",
       "      <td>Rentun Ruusu (2001)</td>\n",
       "      <td>17</td>\n",
       "      <td>(no genres listed)</td>\n",
       "    </tr>\n",
       "    <tr>\n",
       "      <th>54403</th>\n",
       "      <td>131262</td>\n",
       "      <td>Innocence (2014)</td>\n",
       "      <td>1</td>\n",
       "      <td>Horror</td>\n",
       "    </tr>\n",
       "    <tr>\n",
       "      <th>54404</th>\n",
       "      <td>131262</td>\n",
       "      <td>Innocence (2014)</td>\n",
       "      <td>8</td>\n",
       "      <td>Fantasy</td>\n",
       "    </tr>\n",
       "    <tr>\n",
       "      <th>54405</th>\n",
       "      <td>131262</td>\n",
       "      <td>Innocence (2014)</td>\n",
       "      <td>15</td>\n",
       "      <td>Adventure</td>\n",
       "    </tr>\n",
       "  </tbody>\n",
       "</table>\n",
       "<p>54406 rows × 4 columns</p>\n",
       "</div>"
      ],
      "text/plain": [
       "       movieId           movieTitle genreId           genreName\n",
       "0            1     Toy Story (1995)       3           Animation\n",
       "1            1     Toy Story (1995)       5              Comedy\n",
       "2            1     Toy Story (1995)       8             Fantasy\n",
       "3            1     Toy Story (1995)      13            Children\n",
       "4            1     Toy Story (1995)      15           Adventure\n",
       "...        ...                  ...     ...                 ...\n",
       "54401   131258   The Pirates (2014)      15           Adventure\n",
       "54402   131260  Rentun Ruusu (2001)      17  (no genres listed)\n",
       "54403   131262     Innocence (2014)       1              Horror\n",
       "54404   131262     Innocence (2014)       8             Fantasy\n",
       "54405   131262     Innocence (2014)      15           Adventure\n",
       "\n",
       "[54406 rows x 4 columns]"
      ]
     },
     "execution_count": 36,
     "metadata": {},
     "output_type": "execute_result"
    }
   ],
   "source": [
    "movie_genres = []\n",
    "\n",
    "for i, row in movies_df.iterrows():\n",
    "    selectedGenres = set(row[\"genres\"].split(\"|\"))\n",
    "    \n",
    "    for i, genreName in enumerate(genreNames):\n",
    "        if genreName in selectedGenres:\n",
    "            movie_genres.append([row[\"movieId\"], row[\"title\"], genreIds[i], genreName])\n",
    "\n",
    "movie_genres_df = pd.DataFrame(movie_genres, columns=[\"movieId\", \"movieTitle\", \"genreId\", \"genreName\"])\n",
    "movie_genres_df"
   ]
  },
  {
   "cell_type": "code",
   "execution_count": 37,
   "metadata": {},
   "outputs": [],
   "source": [
    "movie_genres_df.to_csv(\"./neo4j_csvs/movie_genres.csv\", index=False)"
   ]
  },
  {
   "cell_type": "code",
   "execution_count": 39,
   "metadata": {},
   "outputs": [
    {
     "name": "stdout",
     "output_type": "stream",
     "text": [
      "10380/10381\r"
     ]
    },
    {
     "data": {
      "text/plain": [
       "1031"
      ]
     },
     "execution_count": 39,
     "metadata": {},
     "output_type": "execute_result"
    }
   ],
   "source": [
    "markedTags = set([])\n",
    "\n",
    "for i, movie_id in enumerate(movie_to_tag_relevance):\n",
    "    for tag in movie_to_tag_relevance[movie_id]:\n",
    "        if not tag in markedTags:\n",
    "            markedTags.add(tag)\n",
    "\n",
    "    print(f\"{i}/{len(movie_to_tag_relevance)}\", end=\"\\r\")\n",
    "\n",
    "tagIds = [f\"{i+1}\" for i in range(len(markedTags))]\n",
    "tagNames = list(markedTags)\n",
    "len(tagNames)"
   ]
  },
  {
   "cell_type": "code",
   "execution_count": 40,
   "metadata": {},
   "outputs": [
    {
     "name": "stdout",
     "output_type": "stream",
     "text": [
      "10380/10381\r"
     ]
    }
   ],
   "source": [
    "movie_tags = []\n",
    "\n",
    "for i, movie_id in enumerate(movie_to_tag_relevance):\n",
    "    for tag in movie_to_tag_relevance[movie_id]:\n",
    "        movie_tags.append([tagNames.index(tag)+1, movie_id, tag])\n",
    "\n",
    "    print(f\"{i}/{len(movie_to_tag_relevance)}\", end=\"\\r\")"
   ]
  },
  {
   "cell_type": "code",
   "execution_count": 41,
   "metadata": {},
   "outputs": [
    {
     "data": {
      "text/html": [
       "<div>\n",
       "<style scoped>\n",
       "    .dataframe tbody tr th:only-of-type {\n",
       "        vertical-align: middle;\n",
       "    }\n",
       "\n",
       "    .dataframe tbody tr th {\n",
       "        vertical-align: top;\n",
       "    }\n",
       "\n",
       "    .dataframe thead th {\n",
       "        text-align: right;\n",
       "    }\n",
       "</style>\n",
       "<table border=\"1\" class=\"dataframe\">\n",
       "  <thead>\n",
       "    <tr style=\"text-align: right;\">\n",
       "      <th></th>\n",
       "      <th>tagId</th>\n",
       "      <th>movieId</th>\n",
       "      <th>tagName</th>\n",
       "    </tr>\n",
       "  </thead>\n",
       "  <tbody>\n",
       "    <tr>\n",
       "      <th>0</th>\n",
       "      <td>159</td>\n",
       "      <td>1</td>\n",
       "      <td>kids and family</td>\n",
       "    </tr>\n",
       "    <tr>\n",
       "      <th>1</th>\n",
       "      <td>849</td>\n",
       "      <td>1</td>\n",
       "      <td>pixar animation</td>\n",
       "    </tr>\n",
       "    <tr>\n",
       "      <th>2</th>\n",
       "      <td>342</td>\n",
       "      <td>1</td>\n",
       "      <td>computer animation</td>\n",
       "    </tr>\n",
       "    <tr>\n",
       "      <th>3</th>\n",
       "      <td>643</td>\n",
       "      <td>1</td>\n",
       "      <td>toys</td>\n",
       "    </tr>\n",
       "    <tr>\n",
       "      <th>4</th>\n",
       "      <td>184</td>\n",
       "      <td>2</td>\n",
       "      <td>kids</td>\n",
       "    </tr>\n",
       "    <tr>\n",
       "      <th>...</th>\n",
       "      <td>...</td>\n",
       "      <td>...</td>\n",
       "      <td>...</td>\n",
       "    </tr>\n",
       "    <tr>\n",
       "      <th>41519</th>\n",
       "      <td>244</td>\n",
       "      <td>131168</td>\n",
       "      <td>criterion</td>\n",
       "    </tr>\n",
       "    <tr>\n",
       "      <th>41520</th>\n",
       "      <td>172</td>\n",
       "      <td>131170</td>\n",
       "      <td>bad ending</td>\n",
       "    </tr>\n",
       "    <tr>\n",
       "      <th>41521</th>\n",
       "      <td>113</td>\n",
       "      <td>131170</td>\n",
       "      <td>parallel universe</td>\n",
       "    </tr>\n",
       "    <tr>\n",
       "      <th>41522</th>\n",
       "      <td>281</td>\n",
       "      <td>131170</td>\n",
       "      <td>sci-fi</td>\n",
       "    </tr>\n",
       "    <tr>\n",
       "      <th>41523</th>\n",
       "      <td>630</td>\n",
       "      <td>131170</td>\n",
       "      <td>alternate reality</td>\n",
       "    </tr>\n",
       "  </tbody>\n",
       "</table>\n",
       "<p>41524 rows × 3 columns</p>\n",
       "</div>"
      ],
      "text/plain": [
       "       tagId movieId             tagName\n",
       "0        159       1     kids and family\n",
       "1        849       1     pixar animation\n",
       "2        342       1  computer animation\n",
       "3        643       1                toys\n",
       "4        184       2                kids\n",
       "...      ...     ...                 ...\n",
       "41519    244  131168           criterion\n",
       "41520    172  131170          bad ending\n",
       "41521    113  131170   parallel universe\n",
       "41522    281  131170              sci-fi\n",
       "41523    630  131170   alternate reality\n",
       "\n",
       "[41524 rows x 3 columns]"
      ]
     },
     "execution_count": 41,
     "metadata": {},
     "output_type": "execute_result"
    }
   ],
   "source": [
    "movie_tags_df = pd.DataFrame(movie_tags, columns=[\"tagId\", \"movieId\", \"tagName\"])\n",
    "movie_tags_df"
   ]
  },
  {
   "cell_type": "code",
   "execution_count": 42,
   "metadata": {},
   "outputs": [],
   "source": [
    "movie_tags_df.to_csv(\"./neo4j_csvs/movie_tags.csv\", index=False)"
   ]
  }
 ],
 "metadata": {
  "interpreter": {
   "hash": "a46f0e7d7db2b4b2704a15e4e0b2e33d73549edf512530e310df04cf4d31824c"
  },
  "kernelspec": {
   "display_name": "Python 3.9.7 ('base')",
   "language": "python",
   "name": "python3"
  },
  "language_info": {
   "codemirror_mode": {
    "name": "ipython",
    "version": 3
   },
   "file_extension": ".py",
   "mimetype": "text/x-python",
   "name": "python",
   "nbconvert_exporter": "python",
   "pygments_lexer": "ipython3",
   "version": "3.9.7"
  },
  "orig_nbformat": 4
 },
 "nbformat": 4,
 "nbformat_minor": 2
}
