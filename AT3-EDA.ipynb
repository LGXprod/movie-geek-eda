{
 "cells": [
  {
   "cell_type": "markdown",
   "metadata": {},
   "source": [
    "# EDA Questions\n",
    "- Number of movies?\n",
    "- Summary stats of ratings (average, median, quartiles)\n",
    "- Boxplot of number of ratings given by each user"
   ]
  },
  {
   "cell_type": "code",
   "execution_count": 1,
   "metadata": {},
   "outputs": [],
   "source": [
    "import os\n",
    "import pandas as pd\n",
    "import numpy as np\n",
    "import seaborn as sns\n",
    "from matplotlib import pyplot as plt"
   ]
  },
  {
   "cell_type": "code",
   "execution_count": 2,
   "metadata": {},
   "outputs": [],
   "source": [
    "dataset_tables = {}\n",
    "\n",
    "for file in os.listdir(\"./original-dataset\"):\n",
    "    df = pd.read_csv(f\"./original-dataset/{file}\")\n",
    "    fileName = file[:-4]\n",
    "    dataset_tables[fileName] = df"
   ]
  },
  {
   "cell_type": "code",
   "execution_count": 3,
   "metadata": {},
   "outputs": [],
   "source": [
    "ratings_df = dataset_tables[\"ratings\"]"
   ]
  },
  {
   "cell_type": "code",
   "execution_count": 4,
   "metadata": {},
   "outputs": [],
   "source": [
    "ratings_df_length = len(ratings_df.index)"
   ]
  },
  {
   "cell_type": "markdown",
   "metadata": {},
   "source": [
    "## Average number of ratings per user"
   ]
  },
  {
   "cell_type": "code",
   "execution_count": 5,
   "metadata": {},
   "outputs": [
    {
     "name": "stdout",
     "output_type": "stream",
     "text": [
      "20000262 / 20000263\r"
     ]
    }
   ],
   "source": [
    "user_num_ratings = {}\n",
    "\n",
    "for i, row in ratings_df.iterrows():\n",
    "    user_id = row[\"userId\"]\n",
    "    rating = row[\"rating\"]\n",
    "\n",
    "    if user_id in user_num_ratings:\n",
    "        user_num_ratings[user_id] += 1\n",
    "    else:\n",
    "        user_num_ratings[user_id] = 0\n",
    "\n",
    "    print(\"{0} / {1}\".format(i, ratings_df_length), end = \"\\r\")"
   ]
  },
  {
   "cell_type": "code",
   "execution_count": 6,
   "metadata": {},
   "outputs": [
    {
     "name": "stdout",
     "output_type": "stream",
     "text": [
      "Average: 143.4135299257002\n",
      "Median: 67.0\n"
     ]
    }
   ],
   "source": [
    "user_num_ratings_list = np.array(list(user_num_ratings.values()))\n",
    "print(\"Average:\", np.mean(user_num_ratings_list))\n",
    "print(\"Median:\",  np.median(user_num_ratings_list))"
   ]
  },
  {
   "cell_type": "code",
   "execution_count": 7,
   "metadata": {},
   "outputs": [
    {
     "data": {
      "text/plain": [
       "<AxesSubplot:>"
      ]
     },
     "execution_count": 7,
     "metadata": {},
     "output_type": "execute_result"
    },
    {
     "data": {
      "image/png": "[encoded data removed]",
      "text/plain": [
       "<Figure size 1080x576 with 1 Axes>"
      ]
     },
     "metadata": {
      "needs_background": "light"
     },
     "output_type": "display_data"
    }
   ],
   "source": [
    "plt.figure(figsize=(15,8))\n",
    "sns.boxplot(x=user_num_ratings_list)"
   ]
  },
  {
   "cell_type": "markdown",
   "metadata": {},
   "source": [
    "## Average Number of Ratings Per Movie"
   ]
  },
  {
   "cell_type": "code",
   "execution_count": 8,
   "metadata": {},
   "outputs": [
    {
     "name": "stdout",
     "output_type": "stream",
     "text": [
      "20000262 / 20000263\r"
     ]
    }
   ],
   "source": [
    "num_ratings_by_movie = {}\n",
    "\n",
    "for i, row in ratings_df.iterrows():\n",
    "    movie_id = row[\"movieId\"]\n",
    "    rating = row[\"rating\"]\n",
    "\n",
    "    if movie_id in num_ratings_by_movie:\n",
    "        num_ratings_by_movie[movie_id] += 1\n",
    "    else:\n",
    "        num_ratings_by_movie[movie_id] = 0\n",
    "\n",
    "    print(\"{0} / {1}\".format(i, ratings_df_length), end = \"\\r\")"
   ]
  },
  {
   "cell_type": "code",
   "execution_count": 13,
   "metadata": {},
   "outputs": [
    {
     "name": "stdout",
     "output_type": "stream",
     "text": [
      "Average: 746.8411232425965\n",
      "Median: 17.0\n",
      "Q2: 2.0\n",
      "Q3: 204.0\n",
      "99th Percentile: 14387.689999999995\n"
     ]
    }
   ],
   "source": [
    "num_movie_ratings_per_movie = np.array(list(num_ratings_by_movie.values()))\n",
    "print(\"Average:\", np.mean(num_movie_ratings_per_movie))\n",
    "print(\"Median:\",  np.median(num_movie_ratings_per_movie))\n",
    "print(\"Q2:\",  np.quantile(num_movie_ratings_per_movie, 0.25))\n",
    "print(\"Q3:\",  np.quantile(num_movie_ratings_per_movie, 0.75))\n",
    "print(\"99th Percentile:\",  np.quantile(num_movie_ratings_per_movie, 0.99))"
   ]
  },
  {
   "cell_type": "code",
   "execution_count": 10,
   "metadata": {},
   "outputs": [
    {
     "data": {
      "text/plain": [
       "<AxesSubplot:>"
      ]
     },
     "execution_count": 10,
     "metadata": {},
     "output_type": "execute_result"
    },
    {
     "data": {
      "image/png": "[encoded data removed]",
      "text/plain": [
       "<Figure size 1080x576 with 1 Axes>"
      ]
     },
     "metadata": {
      "needs_background": "light"
     },
     "output_type": "display_data"
    }
   ],
   "source": [
    "plt.figure(figsize=(15,8))\n",
    "sns.boxplot(x=num_movie_ratings_per_movie)"
   ]
  },
  {
   "cell_type": "code",
   "execution_count": 12,
   "metadata": {},
   "outputs": [
    {
     "data": {
      "text/plain": [
       "<AxesSubplot:ylabel='Count'>"
      ]
     },
     "execution_count": 12,
     "metadata": {},
     "output_type": "execute_result"
    },
    {
     "data": {
      "image/png": "[encoded data removed]",
      "text/plain": [
       "<Figure size 432x288 with 1 Axes>"
      ]
     },
     "metadata": {
      "needs_background": "light"
     },
     "output_type": "display_data"
    }
   ],
   "source": [
    "plt.figure(figsize=(15,8))\n",
    "sns.histplot(x=num_movie_ratings_per_movie)"
   ]
  },
  {
   "cell_type": "markdown",
   "metadata": {},
   "source": [
    "## Average Rating Per User"
   ]
  },
  {
   "cell_type": "code",
   "execution_count": 6,
   "metadata": {},
   "outputs": [
    {
     "name": "stdout",
     "output_type": "stream",
     "text": [
      "20000262 / 20000263\r"
     ]
    },
    {
     "ename": "NameError",
     "evalue": "name 'np' is not defined",
     "output_type": "error",
     "traceback": [
      "\u001b[1;31m---------------------------------------------------------------------------\u001b[0m",
      "\u001b[1;31mNameError\u001b[0m                                 Traceback (most recent call last)",
      "\u001b[1;32m~\\AppData\\Local\\Temp\\ipykernel_18584\\3305257106.py\u001b[0m in \u001b[0;36m<module>\u001b[1;34m\u001b[0m\n\u001b[0;32m     14\u001b[0m     \u001b[0mprint\u001b[0m\u001b[1;33m(\u001b[0m\u001b[1;34m\"{0} / {1}\"\u001b[0m\u001b[1;33m.\u001b[0m\u001b[0mformat\u001b[0m\u001b[1;33m(\u001b[0m\u001b[0mi\u001b[0m\u001b[1;33m,\u001b[0m \u001b[0mratings_df_length\u001b[0m\u001b[1;33m)\u001b[0m\u001b[1;33m,\u001b[0m \u001b[0mend\u001b[0m \u001b[1;33m=\u001b[0m \u001b[1;34m\"\\r\"\u001b[0m\u001b[1;33m)\u001b[0m\u001b[1;33m\u001b[0m\u001b[1;33m\u001b[0m\u001b[0m\n\u001b[0;32m     15\u001b[0m \u001b[1;33m\u001b[0m\u001b[0m\n\u001b[1;32m---> 16\u001b[1;33m \u001b[0muser_ratings_avg\u001b[0m \u001b[1;33m=\u001b[0m \u001b[0mnp\u001b[0m\u001b[1;33m.\u001b[0m\u001b[0marray\u001b[0m\u001b[1;33m(\u001b[0m\u001b[1;33m[\u001b[0m\u001b[1;33m]\u001b[0m\u001b[1;33m,\u001b[0m \u001b[0mdtype\u001b[0m\u001b[1;33m=\u001b[0m\u001b[1;34m\"float\"\u001b[0m\u001b[1;33m)\u001b[0m\u001b[1;33m\u001b[0m\u001b[1;33m\u001b[0m\u001b[0m\n\u001b[0m\u001b[0;32m     17\u001b[0m \u001b[1;33m\u001b[0m\u001b[0m\n\u001b[0;32m     18\u001b[0m \u001b[1;32mfor\u001b[0m \u001b[0muser_id\u001b[0m \u001b[1;32min\u001b[0m \u001b[0muser_ratings_sum\u001b[0m\u001b[1;33m:\u001b[0m\u001b[1;33m\u001b[0m\u001b[1;33m\u001b[0m\u001b[0m\n",
      "\u001b[1;31mNameError\u001b[0m: name 'np' is not defined"
     ]
    }
   ],
   "source": [
    "user_ratings_sum = {}\n",
    "\n",
    "for i, row in ratings_df.iterrows():\n",
    "    user_id = row[\"userId\"]\n",
    "    rating = row[\"rating\"]\n",
    "\n",
    "    if user_id in user_ratings_sum:\n",
    "        user_ratings_sum[user_id][0] += rating\n",
    "    else:\n",
    "        user_ratings_sum[user_id] = [rating, 0]\n",
    "\n",
    "    user_ratings_sum[user_id][1] += 1\n",
    "\n",
    "    print(\"{0} / {1}\".format(i, ratings_df_length), end = \"\\r\")"
   ]
  },
  {
   "cell_type": "code",
   "execution_count": 9,
   "metadata": {},
   "outputs": [
    {
     "name": "stdout",
     "output_type": "stream",
     "text": [
      "138492 / 138493\r"
     ]
    }
   ],
   "source": [
    "user_ratings_avg = np.array([], dtype=\"float\")\n",
    "user_ratings_sum_length = len(user_ratings_sum)\n",
    "\n",
    "for i, user_id in enumerate(user_ratings_sum):\n",
    "    rating_sum, num_ratings = user_ratings_sum[user_id]\n",
    "    rating_avg = rating_sum / num_ratings\n",
    "    user_ratings_avg = np.append(user_ratings_avg, [rating_avg])\n",
    "    print(\"{0} / {1}\".format(i, user_ratings_sum_length), end = \"\\r\")"
   ]
  },
  {
   "cell_type": "code",
   "execution_count": 10,
   "metadata": {},
   "outputs": [
    {
     "data": {
      "text/plain": [
       "array([3.74285714, 4.        , 4.12299465, ..., 2.68181818, 4.09756098,\n",
       "       4.17292225])"
      ]
     },
     "execution_count": 10,
     "metadata": {},
     "output_type": "execute_result"
    }
   ],
   "source": [
    "user_ratings_avg"
   ]
  },
  {
   "cell_type": "code",
   "execution_count": 18,
   "metadata": {},
   "outputs": [
    {
     "data": {
      "text/plain": [
       "<AxesSubplot:>"
      ]
     },
     "execution_count": 18,
     "metadata": {},
     "output_type": "execute_result"
    },
    {
     "data": {
      "image/png": "[encoded data removed]",
      "text/plain": [
       "<Figure size 1080x576 with 1 Axes>"
      ]
     },
     "metadata": {
      "needs_background": "light"
     },
     "output_type": "display_data"
    }
   ],
   "source": [
    "plt.figure(figsize=(15,8))\n",
    "sns.boxplot(x=user_ratings_avg)"
   ]
  }
 ],
 "metadata": {
  "interpreter": {
   "hash": "7f0fc315b6233e34131a3395082305297e6d314386424aa300dcd8596ecd3ed2"
  },
  "kernelspec": {
   "display_name": "Python 3.9.7 ('base')",
   "language": "python",
   "name": "python3"
  },
  "language_info": {
   "codemirror_mode": {
    "name": "ipython",
    "version": 3
   },
   "file_extension": ".py",
   "mimetype": "text/x-python",
   "name": "python",
   "nbconvert_exporter": "python",
   "pygments_lexer": "ipython3",
   "version": "3.9.7"
  },
  "orig_nbformat": 4
 },
 "nbformat": 4,
 "nbformat_minor": 2
}
