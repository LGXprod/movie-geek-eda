{
 "cells": [
  {
   "cell_type": "code",
   "execution_count": 29,
   "metadata": {},
   "outputs": [],
   "source": [
    "import os\n",
    "import json\n",
    "import numpy as np\n",
    "import pandas as pd"
   ]
  },
  {
   "cell_type": "code",
   "execution_count": 30,
   "metadata": {},
   "outputs": [],
   "source": [
    "movies_df = pd.read_csv(\"./original-dataset/movies.csv\")"
   ]
  },
  {
   "cell_type": "code",
   "execution_count": 31,
   "metadata": {},
   "outputs": [],
   "source": [
    "with open('movie_to_relevant_tags.json', 'r') as fp:\n",
    "        movie_to_tag_relevance = json.load(fp)"
   ]
  },
  {
   "cell_type": "code",
   "execution_count": 46,
   "metadata": {},
   "outputs": [
    {
     "name": "stdout",
     "output_type": "stream",
     "text": [
      "(m1:Movie {\"id\": 1, \"name\": \"movie1\"}) return m1.id;\n",
      "\n",
      "match (m1:Movie), (g1:Genre) where m1.id=1 and g1.id=1 merge (m1)-[r:InGenre {\"name\": \"is genre of\"}]-(g1);\n",
      "\n"
     ]
    }
   ],
   "source": [
    "def createNode(id, varPrefix, type, attrs):\n",
    "    return f\"({varPrefix}{id}:{type} {json.dumps(attrs)}) return {varPrefix}{id}.id;\\n\"\n",
    "\n",
    "print(createNode(1, \"m\", \"Movie\", {\"id\": 1, \"name\": \"movie1\"}))\n",
    "\n",
    "def createEdge(id1, id2, varPrefix1, varPrefix2, type1, type2, relationshipType, attrs):\n",
    "    var1 = f\"{varPrefix1}{id1}\"\n",
    "    var2 = f\"{varPrefix2}{id2}\"\n",
    "    return f\"match ({var1}:{type1}), ({var2}:{type2}) where {var1}.id={id1} and {var2}.id={id2} merge ({var1})-[r:{relationshipType} {json.dumps(attrs)}]-({var2});\\n\"\n",
    "\n",
    "print(createEdge(1, 1, \"m\", \"g\", \"Movie\", \"Genre\", \"InGenre\", {\"name\": \"is genre of\"}))"
   ]
  },
  {
   "cell_type": "code",
   "execution_count": 47,
   "metadata": {},
   "outputs": [
    {
     "name": "stdout",
     "output_type": "stream",
     "text": [
      "27277/27278\n",
      "\n",
      "10380/10381\r"
     ]
    }
   ],
   "source": [
    "# creating nodes\n",
    "cypherScript = \"\"\n",
    "genreIndex = 1\n",
    "tagIndex = 1\n",
    "allGenres = set([])\n",
    "allTags = set([])\n",
    "\n",
    "for y, row in movies_df.iterrows():\n",
    "    cypherScript += createNode(row[\"movieId\"], \"m\", \"Movie\", {\"id\": row[\"movieId\"], \"title\": row[\"title\"]})\n",
    "\n",
    "    genres = row[\"genres\"].split(\"|\")\n",
    "\n",
    "    for i, genre in enumerate(genres):\n",
    "        if not genre in allGenres:\n",
    "            cypherScript += createNode(genreIndex+i, \"g\", \"Genre\", {\"id\": genreIndex+i, \"name\": genre})\n",
    "            allGenres.add(genre)\n",
    "\n",
    "    genreIndex += len(genres)\n",
    "\n",
    "    print(f\"{y}/{len(movies_df)}\", end=\"\\r\")\n",
    "\n",
    "print(\"\\n\")\n",
    "\n",
    "for y, movieId in enumerate(movie_to_tag_relevance):\n",
    "    tags = movie_to_tag_relevance[movieId]\n",
    "\n",
    "    for i, tag in enumerate(tags):\n",
    "        if not tag in allTags:\n",
    "            cypherScript += createNode(tagIndex+i, \"t\", \"Tag\", {\"id\": tagIndex+i, \"name\": tag})\n",
    "\n",
    "    tagIndex += len(tags)\n",
    "\n",
    "    print(f\"{y}/{len(movie_to_tag_relevance)}\", end=\"\\r\")"
   ]
  },
  {
   "cell_type": "code",
   "execution_count": 48,
   "metadata": {},
   "outputs": [
    {
     "name": "stdout",
     "output_type": "stream",
     "text": [
      "{'Sci-Fi', 'Documentary', 'Fantasy', 'Musical', 'Animation', 'Children', 'Romance', 'Thriller', 'War', 'IMAX', 'Horror', 'Drama', 'Adventure', 'Film-Noir', 'Comedy', 'Mystery', 'Western', 'Action', '(no genres listed)', 'Crime'}\n"
     ]
    }
   ],
   "source": [
    "print(allGenres)"
   ]
  },
  {
   "cell_type": "code",
   "execution_count": 49,
   "metadata": {},
   "outputs": [],
   "source": [
    "with open(\"create_nodes.txt\", \"w\") as f:\n",
    "    f.write(cypherScript)"
   ]
  },
  {
   "cell_type": "code",
   "execution_count": null,
   "metadata": {},
   "outputs": [],
   "source": []
  }
 ],
 "metadata": {
  "interpreter": {
   "hash": "a46f0e7d7db2b4b2704a15e4e0b2e33d73549edf512530e310df04cf4d31824c"
  },
  "kernelspec": {
   "display_name": "Python 3.9.7 ('base')",
   "language": "python",
   "name": "python3"
  },
  "language_info": {
   "codemirror_mode": {
    "name": "ipython",
    "version": 3
   },
   "file_extension": ".py",
   "mimetype": "text/x-python",
   "name": "python",
   "nbconvert_exporter": "python",
   "pygments_lexer": "ipython3",
   "version": "3.9.7"
  },
  "orig_nbformat": 4
 },
 "nbformat": 4,
 "nbformat_minor": 2
}
